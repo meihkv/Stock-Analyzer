{
 "metadata": {
  "language_info": {
   "codemirror_mode": {
    "name": "ipython",
    "version": 3
   },
   "file_extension": ".py",
   "mimetype": "text/x-python",
   "name": "python",
   "nbconvert_exporter": "python",
   "pygments_lexer": "ipython3",
   "version": "3.9.1-final"
  },
  "orig_nbformat": 2,
  "kernelspec": {
   "name": "python3",
   "display_name": "Python 3",
   "language": "python"
  }
 },
 "nbformat": 4,
 "nbformat_minor": 2,
 "cells": [
  {
   "cell_type": "code",
   "execution_count": 10,
   "metadata": {},
   "outputs": [],
   "source": [
    "from pandas_datareader import data as pdr\n",
    "from datetime import date\n",
    "import yfinance as yf\n",
    "yf.pdr_override()\n",
    "import pandas as pd"
   ]
  },
  {
   "cell_type": "code",
   "execution_count": 11,
   "metadata": {},
   "outputs": [
    {
     "output_type": "stream",
     "name": "stdout",
     "text": [
      "[*********************100%***********************]  1 of 1 completed\n"
     ]
    }
   ],
   "source": [
    "data = pdr.get_data_yahoo('TSLA', start = \"2020-01-01\", end = \"2020-12-31\")"
   ]
  },
  {
   "cell_type": "code",
   "execution_count": 13,
   "metadata": {},
   "outputs": [
    {
     "output_type": "execute_result",
     "data": {
      "text/plain": [
       "                 Open       High        Low      Close  Adj Close     Volume\n",
       "Date                                                                        \n",
       "2020-01-02  84.900002  86.139999  84.342003  86.052002  86.052002   47660500\n",
       "2020-01-03  88.099998  90.800003  87.384003  88.601997  88.601997   88892500\n",
       "2020-01-06  88.094002  90.311996  88.000000  90.307999  90.307999   50665000\n",
       "2020-01-07  92.279999  94.325996  90.671997  93.811996  93.811996   89410500\n",
       "2020-01-08  94.739998  99.697998  93.646004  98.428001  98.428001  155721500"
      ],
      "text/html": "<div>\n<style scoped>\n    .dataframe tbody tr th:only-of-type {\n        vertical-align: middle;\n    }\n\n    .dataframe tbody tr th {\n        vertical-align: top;\n    }\n\n    .dataframe thead th {\n        text-align: right;\n    }\n</style>\n<table border=\"1\" class=\"dataframe\">\n  <thead>\n    <tr style=\"text-align: right;\">\n      <th></th>\n      <th>Open</th>\n      <th>High</th>\n      <th>Low</th>\n      <th>Close</th>\n      <th>Adj Close</th>\n      <th>Volume</th>\n    </tr>\n    <tr>\n      <th>Date</th>\n      <th></th>\n      <th></th>\n      <th></th>\n      <th></th>\n      <th></th>\n      <th></th>\n    </tr>\n  </thead>\n  <tbody>\n    <tr>\n      <th>2020-01-02</th>\n      <td>84.900002</td>\n      <td>86.139999</td>\n      <td>84.342003</td>\n      <td>86.052002</td>\n      <td>86.052002</td>\n      <td>47660500</td>\n    </tr>\n    <tr>\n      <th>2020-01-03</th>\n      <td>88.099998</td>\n      <td>90.800003</td>\n      <td>87.384003</td>\n      <td>88.601997</td>\n      <td>88.601997</td>\n      <td>88892500</td>\n    </tr>\n    <tr>\n      <th>2020-01-06</th>\n      <td>88.094002</td>\n      <td>90.311996</td>\n      <td>88.000000</td>\n      <td>90.307999</td>\n      <td>90.307999</td>\n      <td>50665000</td>\n    </tr>\n    <tr>\n      <th>2020-01-07</th>\n      <td>92.279999</td>\n      <td>94.325996</td>\n      <td>90.671997</td>\n      <td>93.811996</td>\n      <td>93.811996</td>\n      <td>89410500</td>\n    </tr>\n    <tr>\n      <th>2020-01-08</th>\n      <td>94.739998</td>\n      <td>99.697998</td>\n      <td>93.646004</td>\n      <td>98.428001</td>\n      <td>98.428001</td>\n      <td>155721500</td>\n    </tr>\n  </tbody>\n</table>\n</div>"
     },
     "metadata": {},
     "execution_count": 13
    }
   ],
   "source": [
    "data.head()"
   ]
  }
 ]
}