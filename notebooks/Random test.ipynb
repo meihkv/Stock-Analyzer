{
 "metadata": {
  "language_info": {
   "codemirror_mode": {
    "name": "ipython",
    "version": 3
   },
   "file_extension": ".py",
   "mimetype": "text/x-python",
   "name": "python",
   "nbconvert_exporter": "python",
   "pygments_lexer": "ipython3",
   "version": "3.9.1-final"
  },
  "orig_nbformat": 2,
  "kernelspec": {
   "name": "python3",
   "display_name": "Python 3.9.1 64-bit ('stocks': conda)",
   "metadata": {
    "interpreter": {
     "hash": "53aa141426ae768a1688fe64a65f11a467b19708d2cfdd21d3e8c1c225eb553a"
    }
   }
  }
 },
 "nbformat": 4,
 "nbformat_minor": 2,
 "cells": [
  {
   "cell_type": "code",
   "execution_count": 216,
   "metadata": {},
   "outputs": [
    {
     "output_type": "execute_result",
     "data": {
      "text/plain": [
       "'3.9.1 (default, Dec 11 2020, 09:29:25) [MSC v.1916 64 bit (AMD64)]'"
      ]
     },
     "metadata": {},
     "execution_count": 216
    }
   ],
   "source": [
    "import sys\n",
    "sys.version"
   ]
  },
  {
   "cell_type": "code",
   "execution_count": 217,
   "metadata": {},
   "outputs": [],
   "source": [
    "from pandas_datareader import data as pdr\n",
    "from datetime import date\n",
    "import yfinance as yf\n",
    "yf.pdr_override()\n",
    "import pandas as pd"
   ]
  },
  {
   "cell_type": "code",
   "execution_count": 218,
   "metadata": {},
   "outputs": [],
   "source": [
    "# data = pdr.get_data_yahoo('TSLA', start = \"2020-01-01\", end = \"2020-12-31\")"
   ]
  },
  {
   "cell_type": "code",
   "execution_count": 219,
   "metadata": {},
   "outputs": [],
   "source": [
    "# yf.download(\"SPY AAPL\", start=\"2017-01-01\", end=\"2017-04-30\")"
   ]
  },
  {
   "cell_type": "code",
   "execution_count": 220,
   "metadata": {},
   "outputs": [],
   "source": [
    "symbols = pd.read_csv(\"../data/nasdaqtraded.txt\", delimiter=\"|\")\n"
   ]
  },
  {
   "cell_type": "code",
   "execution_count": 239,
   "metadata": {},
   "outputs": [
    {
     "output_type": "stream",
     "name": "stdout",
     "text": [
      "[*********************100%***********************]  20 of 20 completed\n",
      "\n",
      "5 Failed downloads:\n",
      "- CURIW: No data found for this date range, symbol may be delisted\n",
      "- METXW: No data found for this date range, symbol may be delisted\n",
      "- BREZW: No data found for this date range, symbol may be delisted\n",
      "- CMLFW: No data found for this date range, symbol may be delisted\n",
      "- FATBW: No data found for this date range, symbol may be delisted\n",
      "              YB          YE    pct_chg\n",
      "NVAX    4.490000  118.959999  25.494433\n",
      "POWW    1.120000    3.330000   1.973214\n",
      "MNKD    1.300000    3.360000   1.584615\n",
      "CSIQ   22.520000   50.680000   1.250444\n",
      "VCYT   27.510000   50.990002   0.853508\n",
      "CPSS    3.400000    4.170000   0.226471\n",
      "WETF    4.551911    5.330000   0.170937\n",
      "WSBF   17.261318   18.539267   0.074035\n",
      "ITIC  144.366104  155.029999   0.073867\n",
      "ASRV    4.108764    3.180000  -0.226045\n",
      "TOPS   19.750000    1.200000  -0.939241\n",
      "Overall gain/loss: 277.60%\n"
     ]
    }
   ],
   "source": [
    "sample_symbols = symbols.query('`Listing Exchange` == \"Q\"')['Symbol'].sample(n = 20).str.cat(sep = ' ')\n",
    "\n",
    "stocks = yf.download(sample_symbols, start=\"2020-01-01\", end=\"2020-12-31\")\n",
    "\n",
    "yb = stocks['Adj Close'].iloc[0].dropna()\n",
    "ye = stocks['Adj Close'].iloc[len(stocks)-1].dropna()\n",
    "\n",
    "stocks_no_na = pd.DataFrame({'YB': yb, 'YE': ye}).dropna()\n",
    "stocks_no_na['pct_chg'] = stocks_no_na['YE']/stocks_no_na['YB'] - 1\n",
    "stocks_no_na = stocks_no_na.sort_values('pct_chg', ascending=False)\n",
    "print(stocks_no_na)\n",
    "print(\"Overall gain/loss: {:.2f}%\".format(stocks_no_na['pct_chg'].mean()*100))"
   ]
  }
 ]
}